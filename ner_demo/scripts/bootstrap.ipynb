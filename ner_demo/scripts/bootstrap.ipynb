{
 "cells": [
  {
   "cell_type": "markdown",
   "metadata": {},
   "source": [
    "### Make the training set\n",
    "\n",
    "I'm bootstrapping it by adding some patterns for the model to automatically recognize as a named entity, then using the model to label entities, and using those in my training/validation datasets. Then I incrementally add more patterns, have more labeled data, retrain again, rinse, repeat"
   ]
  },
  {
   "cell_type": "code",
   "execution_count": 42,
   "metadata": {},
   "outputs": [],
   "source": [
    "import spacy\n",
    "\n",
    "# Load the trained spaCy model\n",
    "nlp = spacy.load(\"../training/model-best\")\n"
   ]
  },
  {
   "cell_type": "code",
   "execution_count": 43,
   "metadata": {},
   "outputs": [],
   "source": [
    "import pandas as pd\n",
    "\n",
    "columns_to_read = [\"description\"]\n",
    "\n",
    "# Read in the transactions\n",
    "df = pd.read_csv(\"../data/10mil_random.csv\", usecols=columns_to_read, nrows=100)"
   ]
  },
  {
   "cell_type": "code",
   "execution_count": 44,
   "metadata": {},
   "outputs": [],
   "source": [
    "import json\n",
    "\n",
    "\n",
    "def get_entities(text):\n",
    "    doc = nlp(text)\n",
    "    entities = []\n",
    "    for ent in doc.ents:\n",
    "        entities.append([ent.start_char, ent.end_char, ent.label_])\n",
    "    return entities\n",
    "\n",
    "# Put the now-labeled data into a json\n",
    "json_data = []\n",
    "for description in df[\"description\"]:\n",
    "    entities = get_entities(description)\n",
    "    if entities:\n",
    "        json_data.append([description, {\"entities\": entities}])\n",
    "\n",
    "\n",
    "with open(\"dev.json\", \"w\", encoding=\"utf-8\") as f:\n",
    "    json.dump(json_data, f, ensure_ascii=False, indent=2)\n"
   ]
  },
  {
   "cell_type": "code",
   "execution_count": null,
   "metadata": {},
   "outputs": [],
   "source": []
  }
 ],
 "metadata": {
  "kernelspec": {
   "display_name": "venv",
   "language": "python",
   "name": "python3"
  },
  "language_info": {
   "codemirror_mode": {
    "name": "ipython",
    "version": 3
   },
   "file_extension": ".py",
   "mimetype": "text/x-python",
   "name": "python",
   "nbconvert_exporter": "python",
   "pygments_lexer": "ipython3",
   "version": "3.9.6"
  }
 },
 "nbformat": 4,
 "nbformat_minor": 2
}
